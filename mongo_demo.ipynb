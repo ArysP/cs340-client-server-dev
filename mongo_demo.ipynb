{
 "cells": [
  {
   "cell_type": "markdown",
   "metadata": {},
   "source": [
    "## Import Python Packages"
   ]
  },
  {
   "cell_type": "code",
   "execution_count": null,
   "metadata": {},
   "outputs": [],
   "source": [
    "# Install the pymongo pip package in the current Jupyter kernel\n",
    "import sys\n",
    "!{sys.executable} -m pip install pymongo[snappy,gssapi,srv,tls]\n",
    "!{sys.executable} -m pip install -r requirements.txt"
   ]
  },
  {
   "cell_type": "code",
   "execution_count": 10,
   "metadata": {},
   "outputs": [
    {
     "name": "stdout",
     "output_type": "stream",
     "text": [
      "Package            Version\n",
      "------------------ ---------\n",
      "attrs              21.2.0\n",
      "botocore           1.21.6\n",
      "certifi            2021.5.30\n",
      "cffi               1.14.6\n",
      "charset-normalizer 2.0.3\n",
      "cryptography       3.4.7\n",
      "dnspython          1.16.0\n",
      "idna               3.2\n",
      "jmespath           0.10.0\n",
      "pip                21.2.1\n",
      "pyasn1             0.4.8\n",
      "pyasn1-modules     0.2.8\n",
      "pycparser          2.20\n",
      "pymongo            3.12.0\n",
      "pymongo-auth-aws   1.0.2\n",
      "pymongocrypt       1.1.1\n",
      "pyOpenSSL          20.0.1\n",
      "python-dateutil    2.8.2\n",
      "python-dotenv      0.19.0\n",
      "python-snappy      0.6.0\n",
      "requests           2.26.0\n",
      "service-identity   21.1.0\n",
      "setuptools         57.3.0\n",
      "six                1.16.0\n",
      "urllib3            1.26.6\n",
      "winkerberos        0.8.0\n",
      "zstandard          0.15.2\n"
     ]
    }
   ],
   "source": [
    "!pip list"
   ]
  },
  {
   "cell_type": "markdown",
   "metadata": {},
   "source": [
    "## Animal Shelter CRUD Operations\n",
    "\n",
    "Connect to the database. The database connection call requires setting up the environment variables for connecting to the db."
   ]
  },
  {
   "cell_type": "code",
   "execution_count": 1,
   "metadata": {},
   "outputs": [
    {
     "name": "stdout",
     "output_type": "stream",
     "text": [
      "Connected to aac Database.\n"
     ]
    }
   ],
   "source": [
    "from mongo import AnimalShelter\n",
    "from bson import ObjectId\n",
    "\n",
    "aac = AnimalShelter()\n",
    "print(f\"Connected to {aac.database.name} Database.\")"
   ]
  },
  {
   "cell_type": "markdown",
   "metadata": {},
   "source": [
    "## Populate the database\n",
    "Populate the `aac` database with the `aac_shelter_outcomes.csv` data.\n",
    "\n",
    "The create method takes one argument: data in the form of a dictionary"
   ]
  },
  {
   "cell_type": "code",
   "execution_count": 4,
   "metadata": {},
   "outputs": [
    {
     "name": "stderr",
     "output_type": "stream",
     "text": [
      "Encountered an exception E11000 duplicate key error collection: aac.animals index: _id_ dup key: { _id: ObjectId('60fb736621724ef7c4f9629c') }, full error: {'index': 0, 'code': 11000, 'keyPattern': {'_id': 1}, 'keyValue': {'_id': ObjectId('60fb736621724ef7c4f9629c')}, 'errmsg': \"E11000 duplicate key error collection: aac.animals index: _id_ dup key: { _id: ObjectId('60fb736621724ef7c4f9629c') }\"} when trying to save, because data parameter is empty\n",
      "Traceback (most recent call last):\n",
      "  File \"C:\\Users\\halee\\Documents\\repos\\dev\\cs340-client-server-dev\\mongo.py\", line 73, in create\n",
      "    self.database.animals.insert_one(data)  # data should be dictionary\n",
      "  File \"c:\\users\\halee\\appdata\\local\\programs\\python\\python37\\lib\\site-packages\\pymongo\\collection.py\", line 708, in insert_one\n",
      "    session=session),\n",
      "  File \"c:\\users\\halee\\appdata\\local\\programs\\python\\python37\\lib\\site-packages\\pymongo\\collection.py\", line 622, in _insert\n",
      "    bypass_doc_val, session)\n",
      "  File \"c:\\users\\halee\\appdata\\local\\programs\\python\\python37\\lib\\site-packages\\pymongo\\collection.py\", line 610, in _insert_one\n",
      "    acknowledged, _insert_command, session)\n",
      "  File \"c:\\users\\halee\\appdata\\local\\programs\\python\\python37\\lib\\site-packages\\pymongo\\mongo_client.py\", line 1552, in _retryable_write\n",
      "    return self._retry_with_session(retryable, func, s, None)\n",
      "  File \"c:\\users\\halee\\appdata\\local\\programs\\python\\python37\\lib\\site-packages\\pymongo\\mongo_client.py\", line 1438, in _retry_with_session\n",
      "    return self._retry_internal(retryable, func, session, bulk)\n",
      "  File \"c:\\users\\halee\\appdata\\local\\programs\\python\\python37\\lib\\site-packages\\pymongo\\mongo_client.py\", line 1470, in _retry_internal\n",
      "    return func(session, sock_info, retryable)\n",
      "  File \"c:\\users\\halee\\appdata\\local\\programs\\python\\python37\\lib\\site-packages\\pymongo\\collection.py\", line 607, in _insert_command\n",
      "    _check_write_command_response(result)\n",
      "  File \"c:\\users\\halee\\appdata\\local\\programs\\python\\python37\\lib\\site-packages\\pymongo\\helpers.py\", line 229, in _check_write_command_response\n",
      "    _raise_last_write_error(write_errors)\n",
      "  File \"c:\\users\\halee\\appdata\\local\\programs\\python\\python37\\lib\\site-packages\\pymongo\\helpers.py\", line 210, in _raise_last_write_error\n",
      "    raise DuplicateKeyError(error.get(\"errmsg\"), 11000, error)\n",
      "pymongo.errors.DuplicateKeyError: E11000 duplicate key error collection: aac.animals index: _id_ dup key: { _id: ObjectId('60fb736621724ef7c4f9629c') }, full error: {'index': 0, 'code': 11000, 'keyPattern': {'_id': 1}, 'keyValue': {'_id': ObjectId('60fb736621724ef7c4f9629c')}, 'errmsg': \"E11000 duplicate key error collection: aac.animals index: _id_ dup key: { _id: ObjectId('60fb736621724ef7c4f9629c') }\"}\n"
     ]
    },
    {
     "data": {
      "text/plain": [
       "False"
      ]
     },
     "execution_count": 4,
     "metadata": {},
     "output_type": "execute_result"
    }
   ],
   "source": [
    "data = {'_id': ObjectId('60fb736621724ef7c4f9629c'), \n",
    "        '1': '4', \n",
    "        'age_upon_outcome': '7 months', \n",
    "        'animal_id': 'A733653', \n",
    "        'animal_type': 'Cat', \n",
    "        'breed': 'Siamese Mix', \n",
    "        'color': 'Seal Point', \n",
    "        'date_of_birth': '2016-01-25', \n",
    "        'datetime': '2016-08-27 18:11:00', \n",
    "        'monthyear': '2016-08-27T18:11:00', \n",
    "        'name': 'Kitty', 'outcome_subtype': '', \n",
    "        'outcome_type': 'Adoption', \n",
    "        'sex_upon_outcome': 'Intact Female', \n",
    "        'location_lat': '30.3188063374257', \n",
    "        'location_long': '-97.7240376703891', \n",
    "        'age_upon_outcome_in_weeks': '30.8225198412698'}\n",
    "aac.create(data)\n",
    "# The data is already loaded so a duplicate key error arises"
   ]
  },
  {
   "cell_type": "code",
   "execution_count": null,
   "metadata": {},
   "outputs": [],
   "source": [
    "# The prepare_csv_data() function loads all of the shelter outcomes into the MongoDB\n",
    "file_path = \"data/aac_shelter_outcomes.csv\"\n",
    "aac.prepare_csv_data(file_path)"
   ]
  },
  {
   "cell_type": "markdown",
   "metadata": {},
   "source": [
    "## read/Query the database\n",
    "Find a specific breed using the `.read()` method\n",
    "\n",
    "### Read/query the shelter outcomes for a specific breed\n",
    "The Read function takes one argument: data in the form of a dictionary. The key:value pairs represent the column and text to find in the database\n"
   ]
  },
  {
   "cell_type": "code",
   "execution_count": 2,
   "metadata": {},
   "outputs": [
    {
     "name": "stdout",
     "output_type": "stream",
     "text": [
      "[{'_id': ObjectId('60fb736621724ef7c4f9629c'), '1': '4', 'age_upon_outcome': '7 months', 'animal_id': 'A733653', 'animal_type': 'Cat', 'breed': 'Siamese Mix', 'color': 'Seal Point', 'date_of_birth': '2016-01-25', 'datetime': '2016-08-27 18:11:00', 'monthyear': '2016-08-27T18:11:00', 'name': 'Kitty', 'outcome_subtype': '', 'outcome_type': 'Adoption', 'sex_upon_outcome': 'Intact Female', 'location_lat': '30.3188063374257', 'location_long': '-97.7240376703891', 'age_upon_outcome_in_weeks': '30.8225198412698'}, {'_id': ObjectId('60fb736621724ef7c4f962b0'), '1': '24', 'age_upon_outcome': '3 weeks', 'animal_id': 'A704707', 'animal_type': 'Cat', 'breed': 'Siamese Mix', 'color': 'Seal Point', 'date_of_birth': '2015-05-17', 'datetime': '2015-06-08 16:25:00', 'monthyear': '2015-06-08T16:25:00', 'name': '', 'outcome_subtype': 'Partner', 'outcome_type': 'Transfer', 'sex_upon_outcome': 'Unknown', 'location_lat': '30.7099356408815', 'location_long': '-97.6968533378074', 'age_upon_outcome_in_weeks': '3.2405753968254'}, {'_id': ObjectId('60fb737421724ef7c4f96458'), '1': '448', 'age_upon_outcome': '2 years', 'animal_id': 'A723943', 'animal_type': 'Cat', 'breed': 'Siamese Mix', 'color': 'Flame Point', 'date_of_birth': '2014-04-09', 'datetime': '2016-04-14 19:11:00', 'monthyear': '2016-04-14T19:11:00', 'name': '', 'outcome_subtype': 'SCRP', 'outcome_type': 'Transfer', 'sex_upon_outcome': 'Neutered Male', 'location_lat': '30.5729358947286', 'location_long': '-97.4369462924376', 'age_upon_outcome_in_weeks': '105.257043650794'}, {'_id': ObjectId('60fb737421724ef7c4f9645f'), '1': '455', 'age_upon_outcome': '1 month', 'animal_id': 'A713015', 'animal_type': 'Cat', 'breed': 'Siamese Mix', 'color': 'Seal Point', 'date_of_birth': '2015-09-01', 'datetime': '2015-10-11 11:56:00', 'monthyear': '2015-10-11T11:56:00', 'name': '*Cersei', 'outcome_subtype': 'Partner', 'outcome_type': 'Transfer', 'sex_upon_outcome': 'Intact Female', 'location_lat': '30.7538776864814', 'location_long': '-97.6038973249342', 'age_upon_outcome_in_weeks': '5.78531746031746'}, {'_id': ObjectId('60fb737921724ef7c4f964f8'), '1': '608', 'age_upon_outcome': '1 month', 'animal_id': 'A756565', 'animal_type': 'Cat', 'breed': 'Siamese Mix', 'color': 'Lynx Point', 'date_of_birth': '2017-06-28', 'datetime': '2017-08-26 15:39:00', 'monthyear': '2017-08-26T15:39:00', 'name': 'Mini', 'outcome_subtype': '', 'outcome_type': 'Adoption', 'sex_upon_outcome': 'Intact Female', 'location_lat': '30.4161208622151', 'location_long': '-97.5164423901306', 'age_upon_outcome_in_weeks': '8.52172619047619'}]\n"
     ]
    }
   ],
   "source": [
    "# Query the shelter data for a specific breed of cat: \"Siamese Mix\"\n",
    "dictionary_data = {\"breed\": \"Siamese Mix\"}\n",
    "siamese_results = aac.read(dictionary_data)\n",
    "\n",
    "# Display the first 5 resuls from the read operation with list comprehension\n",
    "print([result for result in siamese_results][0:5])"
   ]
  },
  {
   "cell_type": "markdown",
   "metadata": {},
   "source": [
    "## Update a Record\n",
    "This is an example of updating a \"Domestic Shorthair Mix\" record from 'Cat' to 'cattt'\n",
    "\n",
    "### Update the results 'Cattt' (using the breed filter)\n",
    "The Update function takes two arguments: \n",
    "1.\tthe filter dictionary which contains the key:value to filter on\n",
    "2.\tthe data dictionary (which is nested in an outer dictionary with the ‘$set’ key) which contains the key:value pair nested inner-most to find and update find in the database\n"
   ]
  },
  {
   "cell_type": "code",
   "execution_count": 2,
   "metadata": {},
   "outputs": [
    {
     "data": {
      "text/plain": [
       "<pymongo.results.UpdateResult at 0x146d2420ec8>"
      ]
     },
     "execution_count": 2,
     "metadata": {},
     "output_type": "execute_result"
    }
   ],
   "source": [
    "# Updating a breed of \"Domestic Shorthair Mix\" from animal_type of 'Cat' to 'cattt'.\n",
    "breed_filter = {\"breed\": \"Domestic Shorthair Mix\"}\n",
    "\n",
    "# Values to be updated.\n",
    "new_value = {\"$set\": {\"animal_type\": \"cattt\"}}\n",
    "aac.update(breed_filter, new_value)"
   ]
  },
  {
   "cell_type": "code",
   "execution_count": 3,
   "metadata": {},
   "outputs": [
    {
     "data": {
      "text/plain": [
       "[{'_id': ObjectId('60fb6af04359d8156b7d48d4'),\n",
       "  '1': '1',\n",
       "  'age_upon_outcome': '3 years',\n",
       "  'animal_id': 'A746874',\n",
       "  'animal_type': 'cattt',\n",
       "  'breed': 'Domestic Shorthair Mix',\n",
       "  'color': 'Black/White',\n",
       "  'date_of_birth': '2014-04-10',\n",
       "  'datetime': '2017-04-11 09:00:00',\n",
       "  'monthyear': '2017-04-11T09:00:00',\n",
       "  'name': '',\n",
       "  'outcome_subtype': 'SCRP',\n",
       "  'outcome_type': 'Transfer',\n",
       "  'sex_upon_outcome': 'Neutered Male',\n",
       "  'location_lat': '30.5066578739455',\n",
       "  'location_long': '-97.3408780722188',\n",
       "  'age_upon_outcome_in_weeks': '156.767857142857'}]"
      ]
     },
     "execution_count": 3,
     "metadata": {},
     "output_type": "execute_result"
    }
   ],
   "source": [
    "# Find the result that has been changed to 'cattt'\n",
    "[r for r in aac.read({\"animal_type\": \"cattt\"})]"
   ]
  },
  {
   "cell_type": "code",
   "execution_count": 4,
   "metadata": {},
   "outputs": [
    {
     "data": {
      "text/plain": [
       "<pymongo.results.UpdateResult at 0x146d2420948>"
      ]
     },
     "execution_count": 4,
     "metadata": {},
     "output_type": "execute_result"
    }
   ],
   "source": [
    "# Change the result back to 'Cat' (using the same breed filter)\n",
    "breed_filter = {\"breed\": \"Domestic Shorthair Mix\"}\n",
    "new_value = {\"$set\": {\"animal_type\": \"Cat\"}}\n",
    "aac.update(breed_filter, new_value)"
   ]
  },
  {
   "cell_type": "code",
   "execution_count": 5,
   "metadata": {},
   "outputs": [
    {
     "data": {
      "text/plain": [
       "[]"
      ]
     },
     "execution_count": 5,
     "metadata": {},
     "output_type": "execute_result"
    }
   ],
   "source": [
    "# Not results of 'cattt' are returned now\n",
    "[r for r in aac.read({\"animal_type\": \"cattt\"})]"
   ]
  },
  {
   "cell_type": "code",
   "execution_count": 7,
   "metadata": {},
   "outputs": [
    {
     "data": {
      "text/plain": [
       "[{'_id': ObjectId('60fb6af04359d8156b7d48d4'),\n",
       "  '1': '1',\n",
       "  'age_upon_outcome': '3 years',\n",
       "  'animal_id': 'A746874',\n",
       "  'animal_type': 'Cat',\n",
       "  'breed': 'Domestic Shorthair Mix',\n",
       "  'color': 'Black/White',\n",
       "  'date_of_birth': '2014-04-10',\n",
       "  'datetime': '2017-04-11 09:00:00',\n",
       "  'monthyear': '2017-04-11T09:00:00',\n",
       "  'name': '',\n",
       "  'outcome_subtype': 'SCRP',\n",
       "  'outcome_type': 'Transfer',\n",
       "  'sex_upon_outcome': 'Neutered Male',\n",
       "  'location_lat': '30.5066578739455',\n",
       "  'location_long': '-97.3408780722188',\n",
       "  'age_upon_outcome_in_weeks': '156.767857142857'},\n",
       " {'_id': ObjectId('60fb736521724ef7c4f96299'),\n",
       "  '1': '1',\n",
       "  'age_upon_outcome': '3 years',\n",
       "  'animal_id': 'A746874',\n",
       "  'animal_type': 'Cat',\n",
       "  'breed': 'Domestic Shorthair Mix',\n",
       "  'color': 'Black/White',\n",
       "  'date_of_birth': '2014-04-10',\n",
       "  'datetime': '2017-04-11 09:00:00',\n",
       "  'monthyear': '2017-04-11T09:00:00',\n",
       "  'name': '',\n",
       "  'outcome_subtype': 'SCRP',\n",
       "  'outcome_type': 'Transfer',\n",
       "  'sex_upon_outcome': 'Neutered Male',\n",
       "  'location_lat': '30.5066578739455',\n",
       "  'location_long': '-97.3408780722188',\n",
       "  'age_upon_outcome_in_weeks': '156.767857142857'},\n",
       " {'_id': ObjectId('60fb736521724ef7c4f9629a'),\n",
       "  '1': '2',\n",
       "  'age_upon_outcome': '1 year',\n",
       "  'animal_id': 'A725717',\n",
       "  'animal_type': 'Cat',\n",
       "  'breed': 'Domestic Shorthair Mix',\n",
       "  'color': 'Silver Tabby',\n",
       "  'date_of_birth': '2015-05-02',\n",
       "  'datetime': '2016-05-06 10:49:00',\n",
       "  'monthyear': '2016-05-06T10:49:00',\n",
       "  'name': '',\n",
       "  'outcome_subtype': 'SCRP',\n",
       "  'outcome_type': 'Transfer',\n",
       "  'sex_upon_outcome': 'Spayed Female',\n",
       "  'location_lat': '30.6525984560228',\n",
       "  'location_long': '-97.7419963476444',\n",
       "  'age_upon_outcome_in_weeks': '52.9215277777778'}]"
      ]
     },
     "execution_count": 7,
     "metadata": {},
     "output_type": "execute_result"
    }
   ],
   "source": [
    "# Find the results where animal_type = Cat\n",
    "[r for r in aac.read({\"animal_type\": \"Cat\"})][0:3]"
   ]
  },
  {
   "cell_type": "markdown",
   "metadata": {},
   "source": [
    "## Delete a Record\n",
    "Delete the duplicate document by _id. This function takes one argument: data in the form of a dictionary (key:value)\n"
   ]
  },
  {
   "cell_type": "code",
   "execution_count": 13,
   "metadata": {},
   "outputs": [
    {
     "name": "stdout",
     "output_type": "stream",
     "text": [
      "[{'_id': ObjectId('60fb6af04359d8156b7d48d4'), '1': '1', 'age_upon_outcome': '3 years', 'animal_id': 'A746874', 'animal_type': 'Cat', 'breed': 'Domestic Shorthair Mix', 'color': 'Black/White', 'date_of_birth': '2014-04-10', 'datetime': '2017-04-11 09:00:00', 'monthyear': '2017-04-11T09:00:00', 'name': '', 'outcome_subtype': 'SCRP', 'outcome_type': 'Transfer', 'sex_upon_outcome': 'Neutered Male', 'location_lat': '30.5066578739455', 'location_long': '-97.3408780722188', 'age_upon_outcome_in_weeks': '156.767857142857'}, {'_id': ObjectId('60fb736521724ef7c4f96299'), '1': '1', 'age_upon_outcome': '3 years', 'animal_id': 'A746874', 'animal_type': 'Cat', 'breed': 'Domestic Shorthair Mix', 'color': 'Black/White', 'date_of_birth': '2014-04-10', 'datetime': '2017-04-11 09:00:00', 'monthyear': '2017-04-11T09:00:00', 'name': '', 'outcome_subtype': 'SCRP', 'outcome_type': 'Transfer', 'sex_upon_outcome': 'Neutered Male', 'location_lat': '30.5066578739455', 'location_long': '-97.3408780722188', 'age_upon_outcome_in_weeks': '156.767857142857'}]\n"
     ]
    }
   ],
   "source": [
    "# Two documents have the value 1 in the 1 column. They are duplicated documents.\n",
    "print([r for r in aac.read({\"1\":\"1\"})])"
   ]
  },
  {
   "cell_type": "code",
   "execution_count": 2,
   "metadata": {},
   "outputs": [
    {
     "name": "stdout",
     "output_type": "stream",
     "text": [
      "Deleting {'_id': ObjectId('60fb6af04359d8156b7d48d4')}\n"
     ]
    },
    {
     "data": {
      "text/plain": [
       "<pymongo.results.DeleteResult at 0x17576d778c8>"
      ]
     },
     "execution_count": 2,
     "metadata": {},
     "output_type": "execute_result"
    }
   ],
   "source": [
    "## Delete the duplicate document \n",
    "aac.delete({\"_id\": ObjectId(\"60fb6af04359d8156b7d48d4\")})"
   ]
  }
 ],
 "metadata": {
  "kernelspec": {
   "display_name": "Python 3",
   "language": "python",
   "name": "python3"
  },
  "language_info": {
   "codemirror_mode": {
    "name": "ipython",
    "version": 3
   },
   "file_extension": ".py",
   "mimetype": "text/x-python",
   "name": "python",
   "nbconvert_exporter": "python",
   "pygments_lexer": "ipython3",
   "version": "3.7.5"
  }
 },
 "nbformat": 4,
 "nbformat_minor": 4
}
